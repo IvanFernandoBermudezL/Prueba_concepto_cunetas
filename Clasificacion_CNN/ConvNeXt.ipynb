{
 "cells": [
  {
   "cell_type": "markdown",
   "id": "bba18c14",
   "metadata": {},
   "source": [
    "1. LIBRERÍAS"
   ]
  },
  {
   "cell_type": "code",
   "execution_count": 1,
   "id": "8f5c2431",
   "metadata": {},
   "outputs": [],
   "source": [
    "import torch\n",
    "import torch.nn as nn\n",
    "import torch.optim as optim\n",
    "from torch.utils.data import DataLoader\n",
    "from torchvision import datasets, transforms, models\n",
    "from torchvision.models import ConvNeXt_Base_Weights, convnext_base\n",
    "import pandas as pd\n",
    "import matplotlib.pyplot as plt\n",
    "import seaborn as sns\n",
    "import os\n",
    "import time\n",
    "from sklearn.manifold import TSNE\n",
    "from sklearn.metrics import classification_report, confusion_matrix, f1_score, roc_curve, auc\n",
    "from sklearn.preprocessing import label_binarize\n",
    "import numpy as np\n",
    "from tqdm import tqdm\n",
    "import psutil "
   ]
  },
  {
   "cell_type": "markdown",
   "id": "50832067",
   "metadata": {},
   "source": [
    "2. CONFIGURACIÓN DEL DISPOSITIVO MPS"
   ]
  },
  {
   "cell_type": "code",
   "execution_count": 2,
   "id": "20eae010",
   "metadata": {},
   "outputs": [
    {
     "name": "stdout",
     "output_type": "stream",
     "text": [
      "Dispositivo: cuda\n",
      "Nombre de la GPU: NVIDIA GeForce RTX 4090\n",
      "Capacidad de computo: (8, 9)\n",
      "Memoria total de la GPU: 23.55 GB\n",
      "Memoria libre: 0.00 GB\n",
      "Memoria usada: 0.00 GB\n",
      "Multiprocesadores: 128\n",
      "Versión CUDA: 12.4\n",
      "Versión CuDNN: 90100\n"
     ]
    }
   ],
   "source": [
    "# Verificar si CUDA está disponible y seleccionar el dispositivo\n",
    "device = torch.device(\"cuda\" if torch.cuda.is_available() else \"cpu\")\n",
    "print(\"Dispositivo:\", device)\n",
    "\n",
    "# Imprimir las características de la GPU si CUDA está disponible\n",
    "if device.type == \"cuda\":\n",
    "    print(\"Nombre de la GPU:\", torch.cuda.get_device_name(0))\n",
    "    print(\"Capacidad de computo:\", torch.cuda.get_device_capability(0))\n",
    "    print(\"Memoria total de la GPU: {:.2f} GB\".format(torch.cuda.get_device_properties(0).total_memory / (1024 ** 3)))\n",
    "    print(\"Memoria libre: {:.2f} GB\".format(torch.cuda.memory_reserved(0) / (1024 ** 3)))\n",
    "    print(\"Memoria usada: {:.2f} GB\".format(torch.cuda.memory_allocated(0) / (1024 ** 3)))\n",
    "    print(\"Multiprocesadores:\", torch.cuda.get_device_properties(0).multi_processor_count)\n",
    "    print(\"Versión CUDA:\", torch.version.cuda)\n",
    "    print(\"Versión CuDNN:\", torch.backends.cudnn.version())\n",
    "else:\n",
    "    print(\"CUDA no está disponible.\")"
   ]
  },
  {
   "cell_type": "markdown",
   "id": "9567e450",
   "metadata": {},
   "source": [
    "3. DIRECTORIOS Y TRANSFORMACIONES"
   ]
  },
  {
   "cell_type": "code",
   "execution_count": 3,
   "id": "49153bf1",
   "metadata": {},
   "outputs": [],
   "source": [
    "data_dir = \"/workspace/Training_dataset\"\n",
    "train_dir = os.path.join(data_dir, \"train\")\n",
    "val_dir = os.path.join(data_dir, \"val\")\n",
    "test_dir = os.path.join(data_dir, \"test\")\n",
    "\n",
    "transform_train = transforms.Compose([\n",
    "    transforms.Resize((224, 224)),\n",
    "    transforms.ToTensor(),\n",
    "    transforms.Normalize(mean=[0.485, 0.456, 0.406], std=[0.229, 0.224, 0.225])\n",
    "])\n",
    "\n",
    "transform_val_test = transforms.Compose([\n",
    "    transforms.Resize((224, 224)),\n",
    "    transforms.ToTensor(),\n",
    "    transforms.Normalize(mean=[0.485, 0.456, 0.406], std=[0.229, 0.224, 0.225])\n",
    "])"
   ]
  },
  {
   "cell_type": "markdown",
   "id": "b8cdf3a3",
   "metadata": {},
   "source": [
    "4. CARGA DE DATOS"
   ]
  },
  {
   "cell_type": "code",
   "execution_count": 4,
   "id": "05423f84",
   "metadata": {},
   "outputs": [],
   "source": [
    "train_dataset = datasets.ImageFolder(root=train_dir, transform=transform_train)\n",
    "val_dataset = datasets.ImageFolder(root=val_dir, transform=transform_val_test)\n",
    "test_dataset = datasets.ImageFolder(root=test_dir, transform=transform_val_test)\n",
    "\n",
    "train_loader = DataLoader(train_dataset, batch_size=32, shuffle=True, num_workers=4, pin_memory=True)\n",
    "val_loader = DataLoader(val_dataset, batch_size=32, shuffle=False, num_workers=4, pin_memory=True)\n",
    "test_loader = DataLoader(test_dataset, batch_size=32, shuffle=False, num_workers=4, pin_memory=True)\n",
    "\n",
    "class_names = train_dataset.classes"
   ]
  },
  {
   "cell_type": "code",
   "execution_count": 5,
   "id": "c4a9e713-19bc-4fb5-8bed-592427db56cc",
   "metadata": {},
   "outputs": [
    {
     "name": "stderr",
     "output_type": "stream",
     "text": [
      "/usr/local/lib/python3.10/dist-packages/torch/cuda/memory.py:391: FutureWarning: torch.cuda.reset_max_memory_allocated now calls torch.cuda.reset_peak_memory_stats, which resets /all/ peak memory stats.\n",
      "  warnings.warn(\n"
     ]
    }
   ],
   "source": [
    "torch.cuda.empty_cache()\n",
    "torch.cuda.reset_max_memory_allocated()\n",
    "torch.cuda.reset_accumulated_memory_stats()"
   ]
  },
  {
   "cell_type": "markdown",
   "id": "66e77a62",
   "metadata": {},
   "source": [
    "5. CARGAR ConvNeXt"
   ]
  },
  {
   "cell_type": "code",
   "execution_count": 9,
   "id": "47ac521c",
   "metadata": {},
   "outputs": [],
   "source": [
    "convnext = models.convnext_base(weights=models.ConvNeXt_Base_Weights.IMAGENET1K_V1).to(device)\n",
    "convnext.features = convnext.features.to(device)\n",
    "convnext = models.convnext_base(weights=models.ConvNeXt_Base_Weights.IMAGENET1K_V1).to(device)\n",
    "\n",
    "# Ajustar la capa `classifier` según la salida real\n",
    "convnext.avgpool = nn.AdaptiveAvgPool2d((1, 1))  # Asegurar tamaño fijo de salida\n",
    "convnext.classifier = nn.Sequential(\n",
    "    nn.Flatten(),                                   # Aplana la salida (batch_size, 1024, 1, 1) -> (batch_size, 1024)\n",
    "    nn.Linear(1024, 512),                           # Ajustar a 512 neuronas intermedias\n",
    "    nn.ReLU(),                                      # Activación intermedia\n",
    "    nn.Dropout(p=0.7),                              # Dropout ajustado a 0.7\n",
    "    nn.Linear(512, len(class_names))                # Capa final para clasificación\n",
    ").to(device)\n",
    "\n",
    "criterion = nn.CrossEntropyLoss().to(device)\n",
    "optimizer = optim.Adam(convnext.parameters(), lr=0.001, weight_decay=1e-4)\n",
    "scheduler = optim.lr_scheduler.StepLR(optimizer, step_size=30, gamma=0.5)\n",
    "early_stopping_scheduler = optim.lr_scheduler.ReduceLROnPlateau(optimizer, mode='min', factor=0.5, patience=10)"
   ]
  },
  {
   "cell_type": "markdown",
   "id": "5828c6db",
   "metadata": {},
   "source": [
    "6. ENTRENAMIENTO Y VALIDACIÓN"
   ]
  },
  {
   "cell_type": "code",
   "execution_count": null,
   "id": "c6f1f678",
   "metadata": {},
   "outputs": [
    {
     "name": "stdout",
     "output_type": "stream",
     "text": [
      "\n",
      "Epoch 1/100\n"
     ]
    },
    {
     "name": "stderr",
     "output_type": "stream",
     "text": [
      "Entrenando Epoca 1: 100%|██████████| 657/657 [01:54<00:00,  5.73it/s]\n"
     ]
    },
    {
     "name": "stdout",
     "output_type": "stream",
     "text": [
      "Epoca 1 -> Train Loss: 0.4369, Val Loss: 0.2537, Train Acc: 0.8691, Val Acc: 0.9231\n",
      "\n",
      "Epoch 2/100\n"
     ]
    },
    {
     "name": "stderr",
     "output_type": "stream",
     "text": [
      "Entrenando Epoca 2: 100%|██████████| 657/657 [01:54<00:00,  5.73it/s]\n"
     ]
    },
    {
     "name": "stdout",
     "output_type": "stream",
     "text": [
      "Epoca 2 -> Train Loss: 0.2273, Val Loss: 0.1464, Train Acc: 0.9362, Val Acc: 0.9556\n",
      "\n",
      "Epoch 3/100\n"
     ]
    },
    {
     "name": "stderr",
     "output_type": "stream",
     "text": [
      "Entrenando Epoca 3: 100%|██████████| 657/657 [01:54<00:00,  5.73it/s]\n"
     ]
    },
    {
     "name": "stdout",
     "output_type": "stream",
     "text": [
      "Epoca 3 -> Train Loss: 0.8159, Val Loss: 0.9781, Train Acc: 0.6906, Val Acc: 0.6596\n",
      "\n",
      "Epoch 4/100\n"
     ]
    },
    {
     "name": "stderr",
     "output_type": "stream",
     "text": [
      "Entrenando Epoca 4: 100%|██████████| 657/657 [01:54<00:00,  5.73it/s]\n"
     ]
    },
    {
     "name": "stdout",
     "output_type": "stream",
     "text": [
      "Epoca 4 -> Train Loss: 0.5734, Val Loss: 0.3158, Train Acc: 0.7974, Val Acc: 0.9018\n",
      "\n",
      "Epoch 5/100\n"
     ]
    },
    {
     "name": "stderr",
     "output_type": "stream",
     "text": [
      "Entrenando Epoca 5: 100%|██████████| 657/657 [01:54<00:00,  5.72it/s]\n"
     ]
    },
    {
     "name": "stdout",
     "output_type": "stream",
     "text": [
      "Epoca 5 -> Train Loss: 0.2566, Val Loss: 0.1884, Train Acc: 0.9241, Val Acc: 0.9484\n",
      "\n",
      "Epoch 6/100\n"
     ]
    },
    {
     "name": "stderr",
     "output_type": "stream",
     "text": [
      "Entrenando Epoca 6: 100%|██████████| 657/657 [01:54<00:00,  5.72it/s]\n"
     ]
    },
    {
     "name": "stdout",
     "output_type": "stream",
     "text": [
      "Epoca 6 -> Train Loss: 0.1516, Val Loss: 0.0828, Train Acc: 0.9579, Val Acc: 0.9769\n",
      "\n",
      "Epoch 7/100\n"
     ]
    },
    {
     "name": "stderr",
     "output_type": "stream",
     "text": [
      "Entrenando Epoca 7: 100%|██████████| 657/657 [01:54<00:00,  5.72it/s]\n"
     ]
    },
    {
     "name": "stdout",
     "output_type": "stream",
     "text": [
      "Epoca 7 -> Train Loss: 0.1515, Val Loss: 0.2359, Train Acc: 0.9584, Val Acc: 0.9287\n",
      "\n",
      "Epoch 8/100\n"
     ]
    },
    {
     "name": "stderr",
     "output_type": "stream",
     "text": [
      "Entrenando Epoca 8: 100%|██████████| 657/657 [01:52<00:00,  5.82it/s]\n"
     ]
    },
    {
     "name": "stdout",
     "output_type": "stream",
     "text": [
      "Epoca 8 -> Train Loss: 1.9744, Val Loss: 1.7918, Train Acc: 0.1782, Val Acc: 0.1667\n",
      "\n",
      "Epoch 9/100\n"
     ]
    },
    {
     "name": "stderr",
     "output_type": "stream",
     "text": [
      "Entrenando Epoca 9: 100%|██████████| 657/657 [01:52<00:00,  5.83it/s]\n"
     ]
    },
    {
     "name": "stdout",
     "output_type": "stream",
     "text": [
      "Epoca 9 -> Train Loss: 1.7921, Val Loss: 1.7918, Train Acc: 0.1630, Val Acc: 0.1667\n",
      "\n",
      "Epoch 10/100\n"
     ]
    },
    {
     "name": "stderr",
     "output_type": "stream",
     "text": [
      "Entrenando Epoca 10: 100%|██████████| 657/657 [01:52<00:00,  5.83it/s]\n"
     ]
    },
    {
     "name": "stdout",
     "output_type": "stream",
     "text": [
      "Epoca 10 -> Train Loss: 1.7919, Val Loss: 1.7918, Train Acc: 0.1624, Val Acc: 0.1667\n",
      "\n",
      "Epoch 11/100\n"
     ]
    },
    {
     "name": "stderr",
     "output_type": "stream",
     "text": [
      "Entrenando Epoca 11: 100%|██████████| 657/657 [01:52<00:00,  5.82it/s]\n"
     ]
    },
    {
     "name": "stdout",
     "output_type": "stream",
     "text": [
      "Epoca 11 -> Train Loss: 1.7926, Val Loss: 1.7918, Train Acc: 0.1660, Val Acc: 0.1667\n",
      "\n",
      "Epoch 12/100\n"
     ]
    },
    {
     "name": "stderr",
     "output_type": "stream",
     "text": [
      "Entrenando Epoca 12: 100%|██████████| 657/657 [01:53<00:00,  5.81it/s]\n"
     ]
    },
    {
     "name": "stdout",
     "output_type": "stream",
     "text": [
      "Epoca 12 -> Train Loss: 1.7920, Val Loss: 1.7918, Train Acc: 0.1600, Val Acc: 0.1667\n",
      "\n",
      "Epoch 13/100\n"
     ]
    },
    {
     "name": "stderr",
     "output_type": "stream",
     "text": [
      "Entrenando Epoca 13: 100%|██████████| 657/657 [01:52<00:00,  5.82it/s]\n"
     ]
    },
    {
     "name": "stdout",
     "output_type": "stream",
     "text": [
      "Epoca 13 -> Train Loss: 1.7920, Val Loss: 1.7918, Train Acc: 0.1606, Val Acc: 0.1667\n",
      "\n",
      "Epoch 14/100\n"
     ]
    },
    {
     "name": "stderr",
     "output_type": "stream",
     "text": [
      "Entrenando Epoca 14: 100%|██████████| 657/657 [01:52<00:00,  5.82it/s]\n"
     ]
    },
    {
     "name": "stdout",
     "output_type": "stream",
     "text": [
      "Epoca 14 -> Train Loss: 1.7919, Val Loss: 1.7918, Train Acc: 0.1638, Val Acc: 0.1667\n",
      "\n",
      "Epoch 15/100\n"
     ]
    },
    {
     "name": "stderr",
     "output_type": "stream",
     "text": [
      "Entrenando Epoca 15: 100%|██████████| 657/657 [01:53<00:00,  5.81it/s]\n"
     ]
    },
    {
     "name": "stdout",
     "output_type": "stream",
     "text": [
      "Epoca 15 -> Train Loss: 1.7991, Val Loss: 1.7752, Train Acc: 0.1661, Val Acc: 0.1782\n",
      "\n",
      "Epoch 16/100\n"
     ]
    },
    {
     "name": "stderr",
     "output_type": "stream",
     "text": [
      "Entrenando Epoca 16: 100%|██████████| 657/657 [01:54<00:00,  5.74it/s]\n"
     ]
    },
    {
     "name": "stdout",
     "output_type": "stream",
     "text": [
      "Epoca 16 -> Train Loss: 1.5346, Val Loss: 0.9898, Train Acc: 0.3326, Val Acc: 0.5989\n",
      "\n",
      "Epoch 17/100\n"
     ]
    },
    {
     "name": "stderr",
     "output_type": "stream",
     "text": [
      "Entrenando Epoca 17: 100%|██████████| 657/657 [01:54<00:00,  5.72it/s]\n"
     ]
    },
    {
     "name": "stdout",
     "output_type": "stream",
     "text": [
      "Epoca 17 -> Train Loss: 0.9141, Val Loss: 0.7075, Train Acc: 0.6610, Val Acc: 0.7369\n",
      "\n",
      "Epoch 18/100\n"
     ]
    },
    {
     "name": "stderr",
     "output_type": "stream",
     "text": [
      "Entrenando Epoca 18: 100%|██████████| 657/657 [01:54<00:00,  5.72it/s]\n"
     ]
    },
    {
     "name": "stdout",
     "output_type": "stream",
     "text": [
      "Epoca 18 -> Train Loss: 0.3886, Val Loss: 0.2042, Train Acc: 0.8819, Val Acc: 0.9362\n",
      "\n",
      "Epoch 19/100\n"
     ]
    },
    {
     "name": "stderr",
     "output_type": "stream",
     "text": [
      "Entrenando Epoca 19: 100%|██████████| 657/657 [01:54<00:00,  5.72it/s]\n"
     ]
    },
    {
     "name": "stdout",
     "output_type": "stream",
     "text": [
      "Epoca 19 -> Train Loss: 0.2517, Val Loss: 0.1610, Train Acc: 0.9257, Val Acc: 0.9562\n",
      "\n",
      "Epoch 20/100\n"
     ]
    },
    {
     "name": "stderr",
     "output_type": "stream",
     "text": [
      "Entrenando Epoca 20: 100%|██████████| 657/657 [01:54<00:00,  5.72it/s]\n"
     ]
    },
    {
     "name": "stdout",
     "output_type": "stream",
     "text": [
      "Epoca 20 -> Train Loss: 0.1923, Val Loss: 0.1406, Train Acc: 0.9447, Val Acc: 0.9576\n",
      "\n",
      "Epoch 21/100\n"
     ]
    },
    {
     "name": "stderr",
     "output_type": "stream",
     "text": [
      "Entrenando Epoca 21: 100%|██████████| 657/657 [01:54<00:00,  5.72it/s]\n"
     ]
    },
    {
     "name": "stdout",
     "output_type": "stream",
     "text": [
      "Epoca 21 -> Train Loss: 0.1601, Val Loss: 0.1268, Train Acc: 0.9537, Val Acc: 0.9596\n",
      "\n",
      "Epoch 22/100\n"
     ]
    },
    {
     "name": "stderr",
     "output_type": "stream",
     "text": [
      "Entrenando Epoca 22: 100%|██████████| 657/657 [01:54<00:00,  5.72it/s]\n"
     ]
    },
    {
     "name": "stdout",
     "output_type": "stream",
     "text": [
      "Epoca 22 -> Train Loss: 0.1579, Val Loss: 0.1115, Train Acc: 0.9550, Val Acc: 0.9707\n",
      "\n",
      "Epoch 23/100\n"
     ]
    },
    {
     "name": "stderr",
     "output_type": "stream",
     "text": [
      "Entrenando Epoca 23: 100%|██████████| 657/657 [01:54<00:00,  5.72it/s]\n"
     ]
    },
    {
     "name": "stdout",
     "output_type": "stream",
     "text": [
      "Epoca 23 -> Train Loss: 0.1215, Val Loss: 0.1213, Train Acc: 0.9654, Val Acc: 0.9640\n",
      "\n",
      "Epoch 24/100\n"
     ]
    },
    {
     "name": "stderr",
     "output_type": "stream",
     "text": [
      "Entrenando Epoca 24: 100%|██████████| 657/657 [01:54<00:00,  5.72it/s]\n"
     ]
    },
    {
     "name": "stdout",
     "output_type": "stream",
     "text": [
      "Epoca 24 -> Train Loss: 0.1116, Val Loss: 0.0855, Train Acc: 0.9676, Val Acc: 0.9758\n",
      "\n",
      "Epoch 25/100\n"
     ]
    },
    {
     "name": "stderr",
     "output_type": "stream",
     "text": [
      "Entrenando Epoca 25: 100%|██████████| 657/657 [01:54<00:00,  5.72it/s]\n"
     ]
    },
    {
     "name": "stdout",
     "output_type": "stream",
     "text": [
      "Epoca 25 -> Train Loss: 0.0998, Val Loss: 0.0954, Train Acc: 0.9711, Val Acc: 0.9751\n",
      "\n",
      "Epoch 26/100\n"
     ]
    },
    {
     "name": "stderr",
     "output_type": "stream",
     "text": [
      "Entrenando Epoca 26: 100%|██████████| 657/657 [01:54<00:00,  5.73it/s]\n"
     ]
    },
    {
     "name": "stdout",
     "output_type": "stream",
     "text": [
      "Epoca 26 -> Train Loss: 0.0982, Val Loss: 0.0980, Train Acc: 0.9711, Val Acc: 0.9747\n",
      "\n",
      "Epoch 27/100\n"
     ]
    },
    {
     "name": "stderr",
     "output_type": "stream",
     "text": [
      "Entrenando Epoca 27: 100%|██████████| 657/657 [01:54<00:00,  5.72it/s]\n"
     ]
    },
    {
     "name": "stdout",
     "output_type": "stream",
     "text": [
      "Epoca 27 -> Train Loss: 0.0862, Val Loss: 0.0820, Train Acc: 0.9756, Val Acc: 0.9784\n",
      "\n",
      "Epoch 28/100\n"
     ]
    },
    {
     "name": "stderr",
     "output_type": "stream",
     "text": [
      "Entrenando Epoca 28: 100%|██████████| 657/657 [01:54<00:00,  5.72it/s]\n"
     ]
    },
    {
     "name": "stdout",
     "output_type": "stream",
     "text": [
      "Epoca 28 -> Train Loss: 0.0908, Val Loss: 0.0624, Train Acc: 0.9734, Val Acc: 0.9831\n",
      "\n",
      "Epoch 29/100\n"
     ]
    },
    {
     "name": "stderr",
     "output_type": "stream",
     "text": [
      "Entrenando Epoca 29: 100%|██████████| 657/657 [01:54<00:00,  5.73it/s]\n"
     ]
    },
    {
     "name": "stdout",
     "output_type": "stream",
     "text": [
      "Epoca 29 -> Train Loss: 0.0780, Val Loss: 0.0935, Train Acc: 0.9780, Val Acc: 0.9756\n",
      "\n",
      "Epoch 30/100\n"
     ]
    },
    {
     "name": "stderr",
     "output_type": "stream",
     "text": [
      "Entrenando Epoca 30: 100%|██████████| 657/657 [01:54<00:00,  5.74it/s]\n"
     ]
    },
    {
     "name": "stdout",
     "output_type": "stream",
     "text": [
      "Epoca 30 -> Train Loss: 0.0782, Val Loss: 0.0828, Train Acc: 0.9768, Val Acc: 0.9780\n",
      "\n",
      "Epoch 31/100\n"
     ]
    },
    {
     "name": "stderr",
     "output_type": "stream",
     "text": [
      "Entrenando Epoca 31: 100%|██████████| 657/657 [01:54<00:00,  5.74it/s]\n"
     ]
    },
    {
     "name": "stdout",
     "output_type": "stream",
     "text": [
      "Epoca 31 -> Train Loss: 0.0451, Val Loss: 0.0493, Train Acc: 0.9882, Val Acc: 0.9882\n",
      "\n",
      "Epoch 32/100\n"
     ]
    },
    {
     "name": "stderr",
     "output_type": "stream",
     "text": [
      "Entrenando Epoca 32: 100%|██████████| 657/657 [01:54<00:00,  5.74it/s]\n"
     ]
    },
    {
     "name": "stdout",
     "output_type": "stream",
     "text": [
      "Epoca 32 -> Train Loss: 0.0360, Val Loss: 0.0821, Train Acc: 0.9901, Val Acc: 0.9811\n",
      "\n",
      "Epoch 33/100\n"
     ]
    },
    {
     "name": "stderr",
     "output_type": "stream",
     "text": [
      "Entrenando Epoca 33: 100%|██████████| 657/657 [01:54<00:00,  5.75it/s]\n"
     ]
    },
    {
     "name": "stdout",
     "output_type": "stream",
     "text": [
      "Epoca 33 -> Train Loss: 0.0379, Val Loss: 0.0515, Train Acc: 0.9890, Val Acc: 0.9871\n",
      "\n",
      "Epoch 34/100\n"
     ]
    },
    {
     "name": "stderr",
     "output_type": "stream",
     "text": [
      "Entrenando Epoca 34: 100%|██████████| 657/657 [01:54<00:00,  5.75it/s]\n"
     ]
    },
    {
     "name": "stdout",
     "output_type": "stream",
     "text": [
      "Epoca 34 -> Train Loss: 0.0381, Val Loss: 0.0575, Train Acc: 0.9896, Val Acc: 0.9860\n",
      "\n",
      "Epoch 35/100\n"
     ]
    },
    {
     "name": "stderr",
     "output_type": "stream",
     "text": [
      "Entrenando Epoca 35: 100%|██████████| 657/657 [01:54<00:00,  5.76it/s]\n"
     ]
    },
    {
     "name": "stdout",
     "output_type": "stream",
     "text": [
      "Epoca 35 -> Train Loss: 0.0339, Val Loss: 0.0618, Train Acc: 0.9901, Val Acc: 0.9838\n",
      "\n",
      "Epoch 36/100\n"
     ]
    },
    {
     "name": "stderr",
     "output_type": "stream",
     "text": [
      "Entrenando Epoca 36: 100%|██████████| 657/657 [01:54<00:00,  5.76it/s]\n"
     ]
    },
    {
     "name": "stdout",
     "output_type": "stream",
     "text": [
      "Epoca 36 -> Train Loss: 0.0351, Val Loss: 0.0549, Train Acc: 0.9894, Val Acc: 0.9858\n",
      "\n",
      "Epoch 37/100\n"
     ]
    },
    {
     "name": "stderr",
     "output_type": "stream",
     "text": [
      "Entrenando Epoca 37: 100%|██████████| 657/657 [01:54<00:00,  5.75it/s]\n"
     ]
    },
    {
     "name": "stdout",
     "output_type": "stream",
     "text": [
      "Epoca 37 -> Train Loss: 0.0337, Val Loss: 0.0576, Train Acc: 0.9914, Val Acc: 0.9887\n",
      "\n",
      "Epoch 38/100\n"
     ]
    },
    {
     "name": "stderr",
     "output_type": "stream",
     "text": [
      "Entrenando Epoca 38: 100%|██████████| 657/657 [01:54<00:00,  5.76it/s]\n"
     ]
    },
    {
     "name": "stdout",
     "output_type": "stream",
     "text": [
      "Epoca 38 -> Train Loss: 0.0300, Val Loss: 0.0658, Train Acc: 0.9917, Val Acc: 0.9864\n",
      "\n",
      "Epoch 39/100\n"
     ]
    },
    {
     "name": "stderr",
     "output_type": "stream",
     "text": [
      "Entrenando Epoca 39: 100%|██████████| 657/657 [01:54<00:00,  5.75it/s]\n"
     ]
    },
    {
     "name": "stdout",
     "output_type": "stream",
     "text": [
      "Epoca 39 -> Train Loss: 0.0302, Val Loss: 0.0589, Train Acc: 0.9913, Val Acc: 0.9887\n",
      "\n",
      "Epoch 40/100\n"
     ]
    },
    {
     "name": "stderr",
     "output_type": "stream",
     "text": [
      "Entrenando Epoca 40: 100%|██████████| 657/657 [01:54<00:00,  5.75it/s]\n"
     ]
    },
    {
     "name": "stdout",
     "output_type": "stream",
     "text": [
      "Epoca 40 -> Train Loss: 0.0299, Val Loss: 0.0786, Train Acc: 0.9910, Val Acc: 0.9802\n",
      "\n",
      "Epoch 41/100\n"
     ]
    },
    {
     "name": "stderr",
     "output_type": "stream",
     "text": [
      "Entrenando Epoca 41: 100%|██████████| 657/657 [01:54<00:00,  5.75it/s]\n"
     ]
    },
    {
     "name": "stdout",
     "output_type": "stream",
     "text": [
      "Epoca 41 -> Train Loss: 0.0328, Val Loss: 0.0564, Train Acc: 0.9906, Val Acc: 0.9882\n",
      "\n",
      "Epoch 42/100\n"
     ]
    },
    {
     "name": "stderr",
     "output_type": "stream",
     "text": [
      "Entrenando Epoca 42: 100%|██████████| 657/657 [01:54<00:00,  5.74it/s]\n"
     ]
    },
    {
     "name": "stdout",
     "output_type": "stream",
     "text": [
      "Epoca 42 -> Train Loss: 0.0270, Val Loss: 0.0580, Train Acc: 0.9921, Val Acc: 0.9880\n",
      "\n",
      "Epoch 43/100\n"
     ]
    },
    {
     "name": "stderr",
     "output_type": "stream",
     "text": [
      "Entrenando Epoca 43: 100%|██████████| 657/657 [01:54<00:00,  5.75it/s]\n"
     ]
    },
    {
     "name": "stdout",
     "output_type": "stream",
     "text": [
      "Epoca 43 -> Train Loss: 0.0178, Val Loss: 0.0483, Train Acc: 0.9956, Val Acc: 0.9920\n",
      "\n",
      "Epoch 44/100\n"
     ]
    },
    {
     "name": "stderr",
     "output_type": "stream",
     "text": [
      "Entrenando Epoca 44: 100%|██████████| 657/657 [01:54<00:00,  5.76it/s]\n"
     ]
    },
    {
     "name": "stdout",
     "output_type": "stream",
     "text": [
      "Epoca 44 -> Train Loss: 0.0144, Val Loss: 0.0512, Train Acc: 0.9962, Val Acc: 0.9902\n",
      "\n",
      "Epoch 45/100\n"
     ]
    },
    {
     "name": "stderr",
     "output_type": "stream",
     "text": [
      "Entrenando Epoca 45: 100%|██████████| 657/657 [01:54<00:00,  5.76it/s]\n"
     ]
    },
    {
     "name": "stdout",
     "output_type": "stream",
     "text": [
      "Epoca 45 -> Train Loss: 0.0148, Val Loss: 0.0595, Train Acc: 0.9964, Val Acc: 0.9882\n",
      "\n",
      "Epoch 46/100\n"
     ]
    },
    {
     "name": "stderr",
     "output_type": "stream",
     "text": [
      "Entrenando Epoca 46: 100%|██████████| 657/657 [01:53<00:00,  5.77it/s]\n"
     ]
    },
    {
     "name": "stdout",
     "output_type": "stream",
     "text": [
      "Epoca 46 -> Train Loss: 0.0174, Val Loss: 0.0449, Train Acc: 0.9954, Val Acc: 0.9898\n",
      "\n",
      "Epoch 47/100\n"
     ]
    },
    {
     "name": "stderr",
     "output_type": "stream",
     "text": [
      "Entrenando Epoca 47: 100%|██████████| 657/657 [01:53<00:00,  5.76it/s]\n"
     ]
    },
    {
     "name": "stdout",
     "output_type": "stream",
     "text": [
      "Epoca 47 -> Train Loss: 0.0136, Val Loss: 0.0601, Train Acc: 0.9965, Val Acc: 0.9889\n",
      "\n",
      "Epoch 48/100\n"
     ]
    },
    {
     "name": "stderr",
     "output_type": "stream",
     "text": [
      "Entrenando Epoca 48: 100%|██████████| 657/657 [01:53<00:00,  5.77it/s]\n"
     ]
    },
    {
     "name": "stdout",
     "output_type": "stream",
     "text": [
      "Epoca 48 -> Train Loss: 0.0170, Val Loss: 0.0468, Train Acc: 0.9957, Val Acc: 0.9904\n",
      "\n",
      "Epoch 49/100\n"
     ]
    },
    {
     "name": "stderr",
     "output_type": "stream",
     "text": [
      "Entrenando Epoca 49: 100%|██████████| 657/657 [01:53<00:00,  5.77it/s]\n"
     ]
    },
    {
     "name": "stdout",
     "output_type": "stream",
     "text": [
      "Epoca 49 -> Train Loss: 0.0146, Val Loss: 0.0640, Train Acc: 0.9958, Val Acc: 0.9880\n",
      "\n",
      "Epoch 50/100\n"
     ]
    },
    {
     "name": "stderr",
     "output_type": "stream",
     "text": [
      "Entrenando Epoca 50: 100%|██████████| 657/657 [01:53<00:00,  5.77it/s]\n"
     ]
    },
    {
     "name": "stdout",
     "output_type": "stream",
     "text": [
      "Epoca 50 -> Train Loss: 0.0157, Val Loss: 0.0642, Train Acc: 0.9954, Val Acc: 0.9871\n",
      "\n",
      "Epoch 51/100\n"
     ]
    },
    {
     "name": "stderr",
     "output_type": "stream",
     "text": [
      "Entrenando Epoca 51: 100%|██████████| 657/657 [01:53<00:00,  5.77it/s]\n"
     ]
    },
    {
     "name": "stdout",
     "output_type": "stream",
     "text": [
      "Epoca 51 -> Train Loss: 0.0131, Val Loss: 0.0503, Train Acc: 0.9963, Val Acc: 0.9891\n",
      "\n",
      "Epoch 52/100\n"
     ]
    },
    {
     "name": "stderr",
     "output_type": "stream",
     "text": [
      "Entrenando Epoca 52: 100%|██████████| 657/657 [01:54<00:00,  5.75it/s]\n"
     ]
    },
    {
     "name": "stdout",
     "output_type": "stream",
     "text": [
      "Epoca 52 -> Train Loss: 0.0154, Val Loss: 0.0577, Train Acc: 0.9959, Val Acc: 0.9887\n",
      "\n",
      "Epoch 53/100\n"
     ]
    },
    {
     "name": "stderr",
     "output_type": "stream",
     "text": [
      "Entrenando Epoca 53: 100%|██████████| 657/657 [01:54<00:00,  5.76it/s]\n"
     ]
    },
    {
     "name": "stdout",
     "output_type": "stream",
     "text": [
      "Epoca 53 -> Train Loss: 0.0119, Val Loss: 0.0688, Train Acc: 0.9968, Val Acc: 0.9876\n",
      "\n",
      "Epoch 54/100\n"
     ]
    },
    {
     "name": "stderr",
     "output_type": "stream",
     "text": [
      "Entrenando Epoca 54: 100%|██████████| 657/657 [01:54<00:00,  5.76it/s]\n"
     ]
    },
    {
     "name": "stdout",
     "output_type": "stream",
     "text": [
      "Epoca 54 -> Train Loss: 0.0155, Val Loss: 0.0557, Train Acc: 0.9956, Val Acc: 0.9896\n",
      "\n",
      "Epoch 55/100\n"
     ]
    },
    {
     "name": "stderr",
     "output_type": "stream",
     "text": [
      "Entrenando Epoca 55: 100%|██████████| 657/657 [01:54<00:00,  5.75it/s]\n"
     ]
    },
    {
     "name": "stdout",
     "output_type": "stream",
     "text": [
      "Epoca 55 -> Train Loss: 0.0173, Val Loss: 0.0491, Train Acc: 0.9952, Val Acc: 0.9900\n",
      "\n",
      "Epoch 56/100\n"
     ]
    },
    {
     "name": "stderr",
     "output_type": "stream",
     "text": [
      "Entrenando Epoca 56: 100%|██████████| 657/657 [01:54<00:00,  5.76it/s]\n"
     ]
    },
    {
     "name": "stdout",
     "output_type": "stream",
     "text": [
      "Epoca 56 -> Train Loss: 0.0116, Val Loss: 0.0585, Train Acc: 0.9972, Val Acc: 0.9884\n",
      "\n",
      "Epoch 57/100\n"
     ]
    },
    {
     "name": "stderr",
     "output_type": "stream",
     "text": [
      "Entrenando Epoca 57: 100%|██████████| 657/657 [01:54<00:00,  5.76it/s]\n"
     ]
    },
    {
     "name": "stdout",
     "output_type": "stream",
     "text": [
      "Epoca 57 -> Train Loss: 0.0150, Val Loss: 0.0556, Train Acc: 0.9959, Val Acc: 0.9898\n",
      "\n",
      "Epoch 58/100\n"
     ]
    },
    {
     "name": "stderr",
     "output_type": "stream",
     "text": [
      "Entrenando Epoca 58: 100%|██████████| 657/657 [01:54<00:00,  5.75it/s]\n"
     ]
    },
    {
     "name": "stdout",
     "output_type": "stream",
     "text": [
      "Epoca 58 -> Train Loss: 0.0096, Val Loss: 0.0586, Train Acc: 0.9972, Val Acc: 0.9898\n",
      "\n",
      "Epoch 59/100\n"
     ]
    },
    {
     "name": "stderr",
     "output_type": "stream",
     "text": [
      "Entrenando Epoca 59: 100%|██████████| 657/657 [01:53<00:00,  5.77it/s]\n"
     ]
    },
    {
     "name": "stdout",
     "output_type": "stream",
     "text": [
      "Epoca 59 -> Train Loss: 0.0115, Val Loss: 0.0558, Train Acc: 0.9968, Val Acc: 0.9900\n",
      "\n",
      "Epoch 60/100\n"
     ]
    },
    {
     "name": "stderr",
     "output_type": "stream",
     "text": [
      "Entrenando Epoca 60: 100%|██████████| 657/657 [01:53<00:00,  5.77it/s]\n"
     ]
    },
    {
     "name": "stdout",
     "output_type": "stream",
     "text": [
      "Epoca 60 -> Train Loss: 0.0066, Val Loss: 0.0647, Train Acc: 0.9982, Val Acc: 0.9902\n",
      "\n",
      "Epoch 61/100\n"
     ]
    },
    {
     "name": "stderr",
     "output_type": "stream",
     "text": [
      "Entrenando Epoca 61: 100%|██████████| 657/657 [01:53<00:00,  5.78it/s]\n"
     ]
    },
    {
     "name": "stdout",
     "output_type": "stream",
     "text": [
      "Epoca 61 -> Train Loss: 0.0086, Val Loss: 0.0612, Train Acc: 0.9978, Val Acc: 0.9896\n",
      "\n",
      "Epoch 62/100\n"
     ]
    },
    {
     "name": "stderr",
     "output_type": "stream",
     "text": [
      "Entrenando Epoca 62: 100%|██████████| 657/657 [01:53<00:00,  5.78it/s]\n"
     ]
    },
    {
     "name": "stdout",
     "output_type": "stream",
     "text": [
      "Epoca 62 -> Train Loss: 0.0087, Val Loss: 0.0592, Train Acc: 0.9980, Val Acc: 0.9909\n",
      "\n",
      "Epoch 63/100\n"
     ]
    },
    {
     "name": "stderr",
     "output_type": "stream",
     "text": [
      "Entrenando Epoca 63: 100%|██████████| 657/657 [01:53<00:00,  5.78it/s]\n"
     ]
    },
    {
     "name": "stdout",
     "output_type": "stream",
     "text": [
      "Epoca 63 -> Train Loss: 0.0074, Val Loss: 0.0526, Train Acc: 0.9979, Val Acc: 0.9902\n",
      "\n",
      "Epoch 64/100\n"
     ]
    },
    {
     "name": "stderr",
     "output_type": "stream",
     "text": [
      "Entrenando Epoca 64: 100%|██████████| 657/657 [01:53<00:00,  5.79it/s]\n"
     ]
    },
    {
     "name": "stdout",
     "output_type": "stream",
     "text": [
      "Epoca 64 -> Train Loss: 0.0075, Val Loss: 0.0610, Train Acc: 0.9976, Val Acc: 0.9902\n",
      "\n",
      "Epoch 65/100\n"
     ]
    },
    {
     "name": "stderr",
     "output_type": "stream",
     "text": [
      "Entrenando Epoca 65: 100%|██████████| 657/657 [01:53<00:00,  5.78it/s]\n"
     ]
    },
    {
     "name": "stdout",
     "output_type": "stream",
     "text": [
      "Epoca 65 -> Train Loss: 0.0098, Val Loss: 0.0597, Train Acc: 0.9977, Val Acc: 0.9898\n",
      "\n",
      "Epoch 66/100\n"
     ]
    },
    {
     "name": "stderr",
     "output_type": "stream",
     "text": [
      "Entrenando Epoca 66: 100%|██████████| 657/657 [01:53<00:00,  5.79it/s]\n"
     ]
    },
    {
     "name": "stdout",
     "output_type": "stream",
     "text": [
      "Epoca 66 -> Train Loss: 0.0080, Val Loss: 0.0541, Train Acc: 0.9980, Val Acc: 0.9902\n",
      "\n",
      "Epoch 67/100\n"
     ]
    },
    {
     "name": "stderr",
     "output_type": "stream",
     "text": [
      "Entrenando Epoca 67: 100%|██████████| 657/657 [01:53<00:00,  5.78it/s]\n"
     ]
    },
    {
     "name": "stdout",
     "output_type": "stream",
     "text": [
      "Epoca 67 -> Train Loss: 0.0075, Val Loss: 0.0600, Train Acc: 0.9980, Val Acc: 0.9904\n",
      "\n",
      "Epoch 68/100\n"
     ]
    },
    {
     "name": "stderr",
     "output_type": "stream",
     "text": [
      "Entrenando Epoca 68: 100%|██████████| 657/657 [01:53<00:00,  5.79it/s]\n"
     ]
    },
    {
     "name": "stdout",
     "output_type": "stream",
     "text": [
      "Epoca 68 -> Train Loss: 0.0054, Val Loss: 0.0575, Train Acc: 0.9988, Val Acc: 0.9904\n",
      "\n",
      "Epoch 69/100\n"
     ]
    },
    {
     "name": "stderr",
     "output_type": "stream",
     "text": [
      "Entrenando Epoca 69: 100%|██████████| 657/657 [01:53<00:00,  5.79it/s]\n"
     ]
    },
    {
     "name": "stdout",
     "output_type": "stream",
     "text": [
      "Epoca 69 -> Train Loss: 0.0079, Val Loss: 0.0565, Train Acc: 0.9980, Val Acc: 0.9900\n",
      "\n",
      "Epoch 70/100\n"
     ]
    },
    {
     "name": "stderr",
     "output_type": "stream",
     "text": [
      "Entrenando Epoca 70: 100%|██████████| 657/657 [01:53<00:00,  5.79it/s]\n"
     ]
    },
    {
     "name": "stdout",
     "output_type": "stream",
     "text": [
      "Epoca 70 -> Train Loss: 0.0064, Val Loss: 0.0581, Train Acc: 0.9983, Val Acc: 0.9900\n",
      "\n",
      "Epoch 71/100\n"
     ]
    },
    {
     "name": "stderr",
     "output_type": "stream",
     "text": [
      "Entrenando Epoca 71: 100%|██████████| 657/657 [01:53<00:00,  5.80it/s]\n"
     ]
    },
    {
     "name": "stdout",
     "output_type": "stream",
     "text": [
      "Epoca 71 -> Train Loss: 0.0061, Val Loss: 0.0599, Train Acc: 0.9981, Val Acc: 0.9902\n",
      "\n",
      "Epoch 72/100\n"
     ]
    },
    {
     "name": "stderr",
     "output_type": "stream",
     "text": [
      "Entrenando Epoca 72: 100%|██████████| 657/657 [01:53<00:00,  5.80it/s]\n"
     ]
    },
    {
     "name": "stdout",
     "output_type": "stream",
     "text": [
      "Epoca 72 -> Train Loss: 0.0064, Val Loss: 0.0611, Train Acc: 0.9980, Val Acc: 0.9898\n",
      "\n",
      "Epoch 73/100\n"
     ]
    },
    {
     "name": "stderr",
     "output_type": "stream",
     "text": [
      "Entrenando Epoca 73: 100%|██████████| 657/657 [01:53<00:00,  5.78it/s]\n"
     ]
    },
    {
     "name": "stdout",
     "output_type": "stream",
     "text": [
      "Epoca 73 -> Train Loss: 0.0051, Val Loss: 0.0611, Train Acc: 0.9985, Val Acc: 0.9898\n",
      "\n",
      "Epoch 74/100\n"
     ]
    },
    {
     "name": "stderr",
     "output_type": "stream",
     "text": [
      "Entrenando Epoca 74: 100%|██████████| 657/657 [01:53<00:00,  5.80it/s]\n"
     ]
    },
    {
     "name": "stdout",
     "output_type": "stream",
     "text": [
      "Epoca 74 -> Train Loss: 0.0051, Val Loss: 0.0603, Train Acc: 0.9984, Val Acc: 0.9902\n",
      "\n",
      "Epoch 75/100\n"
     ]
    },
    {
     "name": "stderr",
     "output_type": "stream",
     "text": [
      "Entrenando Epoca 75: 100%|██████████| 657/657 [01:53<00:00,  5.80it/s]\n"
     ]
    },
    {
     "name": "stdout",
     "output_type": "stream",
     "text": [
      "Epoca 75 -> Train Loss: 0.0070, Val Loss: 0.0594, Train Acc: 0.9981, Val Acc: 0.9898\n",
      "\n",
      "Epoch 76/100\n"
     ]
    },
    {
     "name": "stderr",
     "output_type": "stream",
     "text": [
      "Entrenando Epoca 76: 100%|██████████| 657/657 [01:53<00:00,  5.80it/s]\n"
     ]
    },
    {
     "name": "stdout",
     "output_type": "stream",
     "text": [
      "Epoca 76 -> Train Loss: 0.0072, Val Loss: 0.0551, Train Acc: 0.9982, Val Acc: 0.9907\n",
      "\n",
      "Epoch 77/100\n"
     ]
    },
    {
     "name": "stderr",
     "output_type": "stream",
     "text": [
      "Entrenando Epoca 77: 100%|██████████| 657/657 [01:53<00:00,  5.79it/s]\n"
     ]
    },
    {
     "name": "stdout",
     "output_type": "stream",
     "text": [
      "Epoca 77 -> Train Loss: 0.0056, Val Loss: 0.0613, Train Acc: 0.9985, Val Acc: 0.9904\n",
      "\n",
      "Epoch 78/100\n"
     ]
    },
    {
     "name": "stderr",
     "output_type": "stream",
     "text": [
      "Entrenando Epoca 78: 100%|██████████| 657/657 [01:53<00:00,  5.79it/s]\n"
     ]
    },
    {
     "name": "stdout",
     "output_type": "stream",
     "text": [
      "Epoca 78 -> Train Loss: 0.0049, Val Loss: 0.0576, Train Acc: 0.9988, Val Acc: 0.9907\n",
      "\n",
      "Epoch 79/100\n"
     ]
    },
    {
     "name": "stderr",
     "output_type": "stream",
     "text": [
      "Entrenando Epoca 79: 100%|██████████| 657/657 [01:53<00:00,  5.80it/s]\n"
     ]
    },
    {
     "name": "stdout",
     "output_type": "stream",
     "text": [
      "Epoca 79 -> Train Loss: 0.0056, Val Loss: 0.0617, Train Acc: 0.9986, Val Acc: 0.9902\n",
      "\n",
      "Epoch 80/100\n"
     ]
    },
    {
     "name": "stderr",
     "output_type": "stream",
     "text": [
      "Entrenando Epoca 80: 100%|██████████| 657/657 [01:53<00:00,  5.80it/s]\n"
     ]
    },
    {
     "name": "stdout",
     "output_type": "stream",
     "text": [
      "Epoca 80 -> Train Loss: 0.0064, Val Loss: 0.0581, Train Acc: 0.9985, Val Acc: 0.9898\n",
      "\n",
      "Epoch 81/100\n"
     ]
    },
    {
     "name": "stderr",
     "output_type": "stream",
     "text": [
      "Entrenando Epoca 81: 100%|██████████| 657/657 [01:53<00:00,  5.79it/s]\n"
     ]
    },
    {
     "name": "stdout",
     "output_type": "stream",
     "text": [
      "Epoca 81 -> Train Loss: 0.0071, Val Loss: 0.0582, Train Acc: 0.9980, Val Acc: 0.9907\n",
      "\n",
      "Epoch 82/100\n"
     ]
    },
    {
     "name": "stderr",
     "output_type": "stream",
     "text": [
      "Entrenando Epoca 82: 100%|██████████| 657/657 [01:53<00:00,  5.79it/s]\n"
     ]
    },
    {
     "name": "stdout",
     "output_type": "stream",
     "text": [
      "Epoca 82 -> Train Loss: 0.0061, Val Loss: 0.0579, Train Acc: 0.9986, Val Acc: 0.9904\n",
      "\n",
      "Epoch 83/100\n"
     ]
    },
    {
     "name": "stderr",
     "output_type": "stream",
     "text": [
      "Entrenando Epoca 83: 100%|██████████| 657/657 [01:53<00:00,  5.79it/s]\n"
     ]
    },
    {
     "name": "stdout",
     "output_type": "stream",
     "text": [
      "Epoca 83 -> Train Loss: 0.0056, Val Loss: 0.0576, Train Acc: 0.9986, Val Acc: 0.9900\n",
      "\n",
      "Epoch 84/100\n"
     ]
    },
    {
     "name": "stderr",
     "output_type": "stream",
     "text": [
      "Entrenando Epoca 84: 100%|██████████| 657/657 [01:53<00:00,  5.79it/s]\n"
     ]
    },
    {
     "name": "stdout",
     "output_type": "stream",
     "text": [
      "Epoca 84 -> Train Loss: 0.0075, Val Loss: 0.0579, Train Acc: 0.9977, Val Acc: 0.9900\n",
      "\n",
      "Epoch 85/100\n"
     ]
    },
    {
     "name": "stderr",
     "output_type": "stream",
     "text": [
      "Entrenando Epoca 85: 100%|██████████| 657/657 [01:53<00:00,  5.79it/s]\n"
     ]
    },
    {
     "name": "stdout",
     "output_type": "stream",
     "text": [
      "Epoca 85 -> Train Loss: 0.0064, Val Loss: 0.0605, Train Acc: 0.9981, Val Acc: 0.9902\n",
      "\n",
      "Epoch 86/100\n"
     ]
    },
    {
     "name": "stderr",
     "output_type": "stream",
     "text": [
      "Entrenando Epoca 86: 100%|██████████| 657/657 [01:53<00:00,  5.79it/s]\n"
     ]
    },
    {
     "name": "stdout",
     "output_type": "stream",
     "text": [
      "Epoca 86 -> Train Loss: 0.0051, Val Loss: 0.0598, Train Acc: 0.9988, Val Acc: 0.9904\n",
      "\n",
      "Epoch 87/100\n"
     ]
    },
    {
     "name": "stderr",
     "output_type": "stream",
     "text": [
      "Entrenando Epoca 87: 100%|██████████| 657/657 [01:53<00:00,  5.80it/s]\n"
     ]
    },
    {
     "name": "stdout",
     "output_type": "stream",
     "text": [
      "Epoca 87 -> Train Loss: 0.0040, Val Loss: 0.0609, Train Acc: 0.9988, Val Acc: 0.9902\n",
      "\n",
      "Epoch 88/100\n"
     ]
    },
    {
     "name": "stderr",
     "output_type": "stream",
     "text": [
      "Entrenando Epoca 88: 100%|██████████| 657/657 [01:53<00:00,  5.79it/s]\n"
     ]
    },
    {
     "name": "stdout",
     "output_type": "stream",
     "text": [
      "Epoca 88 -> Train Loss: 0.0052, Val Loss: 0.0618, Train Acc: 0.9985, Val Acc: 0.9900\n",
      "\n",
      "Epoch 89/100\n"
     ]
    },
    {
     "name": "stderr",
     "output_type": "stream",
     "text": [
      "Entrenando Epoca 89: 100%|██████████| 657/657 [01:53<00:00,  5.79it/s]\n"
     ]
    },
    {
     "name": "stdout",
     "output_type": "stream",
     "text": [
      "Epoca 89 -> Train Loss: 0.0070, Val Loss: 0.0581, Train Acc: 0.9982, Val Acc: 0.9904\n",
      "\n",
      "Epoch 90/100\n"
     ]
    },
    {
     "name": "stderr",
     "output_type": "stream",
     "text": [
      "Entrenando Epoca 90: 100%|██████████| 657/657 [01:53<00:00,  5.79it/s]\n"
     ]
    },
    {
     "name": "stdout",
     "output_type": "stream",
     "text": [
      "Epoca 90 -> Train Loss: 0.0073, Val Loss: 0.0625, Train Acc: 0.9979, Val Acc: 0.9900\n",
      "\n",
      "Epoch 91/100\n"
     ]
    },
    {
     "name": "stderr",
     "output_type": "stream",
     "text": [
      "Entrenando Epoca 91: 100%|██████████| 657/657 [01:53<00:00,  5.80it/s]\n"
     ]
    },
    {
     "name": "stdout",
     "output_type": "stream",
     "text": [
      "Epoca 91 -> Train Loss: 0.0062, Val Loss: 0.0610, Train Acc: 0.9981, Val Acc: 0.9900\n",
      "\n",
      "Epoch 92/100\n"
     ]
    },
    {
     "name": "stderr",
     "output_type": "stream",
     "text": [
      "Entrenando Epoca 92: 100%|██████████| 657/657 [01:53<00:00,  5.79it/s]\n"
     ]
    },
    {
     "name": "stdout",
     "output_type": "stream",
     "text": [
      "Epoca 92 -> Train Loss: 0.0044, Val Loss: 0.0614, Train Acc: 0.9989, Val Acc: 0.9898\n",
      "\n",
      "Epoch 93/100\n"
     ]
    },
    {
     "name": "stderr",
     "output_type": "stream",
     "text": [
      "Entrenando Epoca 93: 100%|██████████| 657/657 [01:53<00:00,  5.80it/s]\n"
     ]
    },
    {
     "name": "stdout",
     "output_type": "stream",
     "text": [
      "Epoca 93 -> Train Loss: 0.0043, Val Loss: 0.0613, Train Acc: 0.9990, Val Acc: 0.9898\n",
      "\n",
      "Epoch 94/100\n"
     ]
    },
    {
     "name": "stderr",
     "output_type": "stream",
     "text": [
      "Entrenando Epoca 94: 100%|██████████| 657/657 [01:53<00:00,  5.79it/s]\n"
     ]
    },
    {
     "name": "stdout",
     "output_type": "stream",
     "text": [
      "Epoca 94 -> Train Loss: 0.0044, Val Loss: 0.0611, Train Acc: 0.9987, Val Acc: 0.9898\n",
      "\n",
      "Epoch 95/100\n"
     ]
    },
    {
     "name": "stderr",
     "output_type": "stream",
     "text": [
      "Entrenando Epoca 95: 100%|██████████| 657/657 [01:53<00:00,  5.80it/s]\n"
     ]
    },
    {
     "name": "stdout",
     "output_type": "stream",
     "text": [
      "Epoca 95 -> Train Loss: 0.0067, Val Loss: 0.0613, Train Acc: 0.9982, Val Acc: 0.9902\n",
      "\n",
      "Epoch 96/100\n"
     ]
    },
    {
     "name": "stderr",
     "output_type": "stream",
     "text": [
      "Entrenando Epoca 96: 100%|██████████| 657/657 [01:53<00:00,  5.79it/s]\n"
     ]
    },
    {
     "name": "stdout",
     "output_type": "stream",
     "text": [
      "Epoca 96 -> Train Loss: 0.0057, Val Loss: 0.0610, Train Acc: 0.9984, Val Acc: 0.9898\n",
      "\n",
      "Epoch 97/100\n"
     ]
    },
    {
     "name": "stderr",
     "output_type": "stream",
     "text": [
      "Entrenando Epoca 97: 100%|██████████| 657/657 [01:53<00:00,  5.80it/s]\n"
     ]
    },
    {
     "name": "stdout",
     "output_type": "stream",
     "text": [
      "Epoca 97 -> Train Loss: 0.0051, Val Loss: 0.0607, Train Acc: 0.9987, Val Acc: 0.9900\n",
      "\n",
      "Epoch 98/100\n"
     ]
    },
    {
     "name": "stderr",
     "output_type": "stream",
     "text": [
      "Entrenando Epoca 98: 100%|██████████| 657/657 [01:53<00:00,  5.79it/s]\n"
     ]
    },
    {
     "name": "stdout",
     "output_type": "stream",
     "text": [
      "Epoca 98 -> Train Loss: 0.0068, Val Loss: 0.0605, Train Acc: 0.9984, Val Acc: 0.9898\n",
      "\n",
      "Epoch 99/100\n"
     ]
    },
    {
     "name": "stderr",
     "output_type": "stream",
     "text": [
      "Entrenando Epoca 99: 100%|██████████| 657/657 [01:53<00:00,  5.80it/s]\n"
     ]
    },
    {
     "name": "stdout",
     "output_type": "stream",
     "text": [
      "Epoca 99 -> Train Loss: 0.0054, Val Loss: 0.0598, Train Acc: 0.9983, Val Acc: 0.9900\n",
      "\n",
      "Epoch 100/100\n"
     ]
    },
    {
     "name": "stderr",
     "output_type": "stream",
     "text": [
      "Entrenando Epoca 100: 100%|██████████| 657/657 [01:53<00:00,  5.80it/s]\n"
     ]
    },
    {
     "name": "stdout",
     "output_type": "stream",
     "text": [
      "Epoca 100 -> Train Loss: 0.0047, Val Loss: 0.0603, Train Acc: 0.9987, Val Acc: 0.9902\n",
      "Tiempo total de entrenamiento: 199.72 minutos\n"
     ]
    }
   ],
   "source": [
    "train_loss, val_loss, train_acc, val_acc = [], [], [], []\n",
    "start_time = time.time()\n",
    "\n",
    "for epoch in range(100):\n",
    "    print(f\"\\nEpoch {epoch + 1}/100\")\n",
    "    convnext.train()\n",
    "    running_loss, correct, total = 0.0, 0, 0\n",
    "\n",
    "    for images, labels in tqdm(train_loader, desc=f\"Entrenando Epoca {epoch + 1}\"):\n",
    "        images = images.to(device)          \n",
    "        labels = labels.to(device)          \n",
    "\n",
    "        optimizer.zero_grad()\n",
    "        outputs = convnext(images)\n",
    "        loss = criterion(outputs, labels)   \n",
    "        loss.backward()\n",
    "        optimizer.step()\n",
    "\n",
    "        running_loss += loss.item()\n",
    "        _, preds = torch.max(outputs, 1)\n",
    "        correct += (preds == labels).sum().item()\n",
    "        total += labels.size(0)\n",
    "\n",
    "    epoch_train_loss = running_loss / len(train_loader)\n",
    "    epoch_train_acc = correct / total\n",
    "    train_loss.append(epoch_train_loss)\n",
    "    train_acc.append(epoch_train_acc)\n",
    "\n",
    "    # === Validación ===\n",
    "    convnext.eval()\n",
    "    running_loss, correct, total = 0.0, 0, 0\n",
    "    with torch.no_grad():\n",
    "        for images, labels in val_loader:\n",
    "            images = images.to(device)      \n",
    "            labels = labels.to(device)     \n",
    "\n",
    "            outputs = convnext(images)\n",
    "            loss = criterion(outputs, labels)\n",
    "            running_loss += loss.item()\n",
    "            _, preds = torch.max(outputs, 1)\n",
    "            correct += (preds == labels).sum().item()\n",
    "            total += labels.size(0)\n",
    "\n",
    "    epoch_val_loss = running_loss / len(val_loader)\n",
    "    epoch_val_acc = correct / total\n",
    "    val_loss.append(epoch_val_loss)\n",
    "    val_acc.append(epoch_val_acc)\n",
    "\n",
    "    # Actualizar el scheduler\n",
    "    scheduler.step()\n",
    "    early_stopping_scheduler.step(epoch_val_loss)\n",
    "\n",
    "    print(f\"Epoca {epoch + 1} -> \"\n",
    "          f\"Train Loss: {epoch_train_loss:.4f}, Val Loss: {epoch_val_loss:.4f}, \"\n",
    "          f\"Train Acc: {epoch_train_acc:.4f}, Val Acc: {epoch_val_acc:.4f}\")\n",
    "\n",
    "end_time = time.time()\n",
    "training_time = (end_time - start_time) / 60\n",
    "print(f\"Tiempo total de entrenamiento: {training_time:.2f} minutos\")"
   ]
  },
  {
   "cell_type": "markdown",
   "id": "f28a71f8",
   "metadata": {},
   "source": [
    "7. GUARDAR EL MODELO"
   ]
  },
  {
   "cell_type": "code",
   "execution_count": null,
   "id": "6eee28f6",
   "metadata": {},
   "outputs": [],
   "source": [
    "\n",
    "torch.save(convnext.state_dict(), \"/workspace/Models/ConvNeXt_model.pth\")"
   ]
  },
  {
   "cell_type": "markdown",
   "id": "5233eb86",
   "metadata": {},
   "source": [
    "8. EVALUACIÓN EN EL CONJUNTO DE PRUEBA"
   ]
  },
  {
   "cell_type": "code",
   "execution_count": null,
   "id": "60cc84eb",
   "metadata": {},
   "outputs": [],
   "source": [
    "os.makedirs(\"ConvNeXt\", exist_ok=True)\n",
    "\n",
    "convnext.eval()\n",
    "y_true, y_pred = [], []\n",
    "embeddings = []\n",
    "\n",
    "with torch.no_grad():\n",
    "    for images, labels in test_loader:\n",
    "        # Mover datos a la GPU si está disponible\n",
    "        images, labels = images.to(device), labels.to(device)\n",
    "        \n",
    "        # Extraer embeddings y mover a la CPU\n",
    "        features = convnext.features(images)  # Cambiado a convnext\n",
    "        embeddings.append(features.view(features.size(0), -1).detach().cpu().numpy())\n",
    "        \n",
    "        # Generar predicciones\n",
    "        outputs = convnext(images)  # Cambiado a convnext\n",
    "        _, preds = torch.max(outputs, 1)\n",
    "        \n",
    "        # Mover predicciones y etiquetas a la CPU\n",
    "        y_true.extend(labels.detach().cpu().numpy())\n",
    "        y_pred.extend(preds.detach().cpu().numpy())\n",
    "\n",
    "# Concatenar embeddings y convertirlos a un array\n",
    "embeddings = np.concatenate(embeddings)\n",
    "\n",
    "# Generar reporte de clasificación\n",
    "report = classification_report(y_true, y_pred, target_names=class_names, output_dict=True)\n",
    "report_df = pd.DataFrame(report).transpose()\n",
    "\n",
    "# Guardar reporte en un archivo Excel\n",
    "report_df.to_excel(\"/workspace/ConvNext/Metricas_ConvNeXt.xlsx\")\n",
    "\n",
    "print(\"Reporte guardado en: /workspace/ConvNext/Metricas_ConvNeXt.xlsx\")\n"
   ]
  },
  {
   "cell_type": "markdown",
   "id": "b3d483f1",
   "metadata": {},
   "source": [
    "9. MATRIZ DE CONFUSIÓN"
   ]
  },
  {
   "cell_type": "code",
   "execution_count": null,
   "id": "e7d6916c",
   "metadata": {},
   "outputs": [],
   "source": [
    "# Calcular la matriz de confusión y normalizarla\n",
    "conf_matrix = confusion_matrix(y_true, y_pred)\n",
    "conf_matrix_norm = conf_matrix.astype('float') / conf_matrix.sum(axis=1)[:, np.newaxis]\n",
    "\n",
    "# Crear el gráfico de la matriz de confusión\n",
    "plt.figure(figsize=(10, 8))\n",
    "sns.heatmap(\n",
    "    conf_matrix_norm,\n",
    "    annot=True,\n",
    "    fmt='.2%',\n",
    "    cmap='PuBuGn',  \n",
    "    xticklabels=class_names,\n",
    "    yticklabels=class_names,\n",
    "    linewidths=0.5,\n",
    "    linecolor='black',\n",
    "    cbar_kws={'aspect': 30, 'shrink': 0.8} \n",
    ")\n",
    "\n",
    "# Títulos y etiquetas\n",
    "plt.title('Matriz de Confusión Normalizada (%) - ConvNeXt', fontsize=16, fontweight='bold', family='serif')\n",
    "plt.xlabel('Predicción', fontsize=14, family='serif')\n",
    "plt.ylabel('Valor Real', fontsize=14, family='serif')\n",
    "plt.xticks(rotation=45, fontsize=12, family='serif')\n",
    "plt.yticks(rotation=0, fontsize=12, family='serif')\n",
    "\n",
    "# Ajustes adicionales\n",
    "plt.grid(color='gray', linestyle='--', linewidth=0.5, alpha=0.7)\n",
    "plt.tight_layout()\n",
    "\n",
    "# Guardar el gráfico\n",
    "plt.savefig(\"/workspace/ConvNeXt/Matriz_confusion.svg\", format='svg', dpi=300, bbox_inches='tight')\n",
    "plt.savefig(\"/workspace/ConvNeXt/Matriz_confusion.png\", dpi=300, bbox_inches='tight')\n",
    "plt.show()\n",
    "\n",
    "print(\"Matriz de confusión guardada en 'ConvNeXt'.\")\n"
   ]
  },
  {
   "cell_type": "markdown",
   "id": "2b3deb9b",
   "metadata": {},
   "source": [
    "10. GRAFICAR MÉTRICAS"
   ]
  },
  {
   "cell_type": "code",
   "execution_count": null,
   "id": "36abb25d",
   "metadata": {},
   "outputs": [],
   "source": [
    "# Suavizado de curvas\n",
    "def suavizar(valores, peso=0.8):\n",
    "    smoothed = []\n",
    "    ultimo = valores[0]\n",
    "    for punto in valores:\n",
    "        smoothed_val = ultimo * peso + (1 - peso) * punto\n",
    "        smoothed.append(smoothed_val)\n",
    "        ultimo = smoothed_val\n",
    "    return smoothed\n",
    "\n",
    "train_acc_smooth = suavizar(train_acc)\n",
    "val_acc_smooth = suavizar(val_acc)\n",
    "train_loss_smooth = suavizar(train_loss)\n",
    "val_loss_smooth = suavizar(val_loss)\n",
    "\n",
    "# Gráfica 1: Accuracy durante el entrenamiento\n",
    "plt.figure(figsize=(10, 8))\n",
    "plt.plot(train_acc_smooth, label='Accuracy de entrenamiento', linestyle='-', linewidth=2, color='mediumseagreen')\n",
    "plt.plot(val_acc_smooth, label='Accuracy de validación', linestyle='-', linewidth=2, color='coral')\n",
    "plt.plot(train_acc, 'o--', alpha=0.7, color='lightgreen', label='Valores reales de entrenamiento')\n",
    "plt.plot(val_acc, 'o--', alpha=0.7, color='lightcoral', label='Valores reales de validación')\n",
    "plt.xlabel('Épocas', fontsize=14, family='serif')\n",
    "plt.ylabel('Accuracy', fontsize=14, family='serif')\n",
    "plt.title('Accuracy durante el entrenamiento (ConvNeXt)', fontsize=16, fontweight='bold', family='serif')\n",
    "plt.ylim([0.9, 1.0])\n",
    "plt.legend(loc='lower right', fontsize=12, prop={'family': 'serif'})\n",
    "plt.grid(color='gray', linestyle='--', linewidth=0.5, alpha=0.7)\n",
    "plt.tight_layout()\n",
    "plt.savefig(\"/workspace/ConvNeXt/Accuracy_ConvNeXt.svg\", format='svg', dpi=300, bbox_inches='tight')\n",
    "plt.savefig(\"/workspace/ConvNeXt/Accuracy_ConvNeXt.png\", dpi=300, bbox_inches='tight')\n",
    "plt.show()\n",
    "\n",
    "# Gráfica 2: Pérdida durante el entrenamiento\n",
    "plt.figure(figsize=(10, 8))\n",
    "plt.plot(train_loss_smooth, label='Pérdida de entrenamiento', linestyle='-', linewidth=2, color='mediumseagreen')\n",
    "plt.plot(val_loss_smooth, label='Pérdida de validación', linestyle='-', linewidth=2, color='coral')\n",
    "plt.plot(train_loss, 'o--', alpha=0.7, color='lightblue', label='Valores reales de entrenamiento')\n",
    "plt.plot(val_loss, 'o--', alpha=0.7, color='lightcoral', label='Valores reales de validación')\n",
    "plt.xlabel('Épocas', fontsize=14, family='serif')\n",
    "plt.ylabel('Pérdida', fontsize=14, family='serif')\n",
    "plt.title('Pérdida durante el entrenamiento (ConvNeXt)', fontsize=16, fontweight='bold', family='serif')\n",
    "plt.ylim([0, 0.35])\n",
    "plt.legend(loc='lower left', fontsize=12, prop={'family': 'serif'})\n",
    "plt.grid(color='gray', linestyle='--', linewidth=0.5, alpha=0.7)\n",
    "plt.tight_layout()\n",
    "plt.savefig(\"/workspace/ConvNeXt/Perdida_ConvNeXt.svg\", format='svg', dpi=300, bbox_inches='tight')\n",
    "plt.savefig(\"/workspace/ConvNeXt/Perdida_ConvNeXt.png\", dpi=300, bbox_inches='tight')\n",
    "plt.show()\n",
    "\n",
    "# Gráfica 3: Comparación de Pérdida y Accuracy durante el entrenamiento\n",
    "plt.figure(figsize=(10, 8))\n",
    "plt.plot(train_loss_smooth, label='Pérdida de entrenamiento', linestyle='-', linewidth=2, color='mediumseagreen')\n",
    "plt.plot(val_loss_smooth, label='Pérdida de validación', linestyle='-', linewidth=2, color='coral')\n",
    "plt.plot(train_acc_smooth, label='Accuracy de entrenamiento', linestyle='--', linewidth=2, color='lightgreen')\n",
    "plt.plot(val_acc_smooth, label='Accuracy de validación', linestyle='--', linewidth=2, color='lightcoral')\n",
    "plt.plot(train_loss, 'o--', alpha=0.7, color='lightblue', label='Valores reales de pérdida (entrenamiento)')\n",
    "plt.plot(val_loss, 'o--', alpha=0.7, color='lightcoral', label='Valores reales de pérdida (validación)')\n",
    "plt.plot(train_acc, 'o--', alpha=0.7, color='lightgreen', label='Valores reales de Accuracy (entrenamiento)')\n",
    "plt.plot(val_acc, 'o--', alpha=0.7, color='lightcoral', label='Valores reales de Accuracy (validación)')\n",
    "plt.xlabel('Épocas', fontsize=14, family='serif')\n",
    "plt.ylabel('Valores', fontsize=14, family='serif')\n",
    "plt.title('Comparación de Pérdida y Accuracy durante el entrenamiento (ConvNeXt)', fontsize=16, fontweight='bold', family='serif')\n",
    "plt.legend(loc='best', fontsize=12, prop={'family': 'serif'})\n",
    "plt.grid(color='gray', linestyle='--', linewidth=0.5, alpha=0.7)\n",
    "plt.tight_layout()\n",
    "plt.savefig(\"/workspace/ConvNeXt/Comparacion_Perdida_Accuracy_ConvNeXt.svg\", format='svg', dpi=300, bbox_inches='tight')\n",
    "plt.savefig(\"/workspace/ConvNeXt/Comparacion_Perdida_Accuracy_ConvNeXt.png\", dpi=300, bbox_inches='tight')\n",
    "plt.show()"
   ]
  },
  {
   "cell_type": "markdown",
   "id": "b4cbab6b",
   "metadata": {},
   "source": [
    "11. ANÁLISIS DE VECTORES (Vector Analysis)"
   ]
  },
  {
   "cell_type": "code",
   "execution_count": null,
   "id": "e892f29d",
   "metadata": {},
   "outputs": [],
   "source": [
    "print(\"Generando análisis de vectores...\")\n",
    "\n",
    "convnext.eval()\n",
    "y_true, y_pred, embeddings = [], [], []\n",
    "\n",
    "with torch.no_grad():\n",
    "    for images, labels in test_loader:\n",
    "        images, labels = images.to(device), labels.to(device)\n",
    "        outputs = convnext(images)\n",
    "        _, preds = torch.max(outputs, 1)\n",
    "        y_true.extend(labels.cpu().numpy())\n",
    "        y_pred.extend(preds.cpu().numpy())\n",
    "\n",
    "        # Extraer y almacenar embeddings\n",
    "        features = convnext.forward_features(images)  \n",
    "        embeddings.append(features.view(features.size(0), -1).cpu().numpy())\n",
    "\n",
    "# Unificar embeddings en una matriz NumPy\n",
    "embeddings = np.concatenate(embeddings)\n",
    "\n",
    "# Calcular F1 Scores por imagen\n",
    "f1_scores = [f1_score([true], [pred], average='weighted') for true, pred in zip(y_true, y_pred)]\n",
    "print(\"Tamaño de f1_scores:\", len(f1_scores))\n",
    "\n",
    "# Verificar y ajustar la forma de embeddings\n",
    "print(\"Forma de embeddings antes de reshape:\", embeddings.shape)\n",
    "if len(embeddings.shape) == 1:\n",
    "    embeddings = embeddings.reshape(-1, 1)\n",
    "print(\"Forma de embeddings después de reshape:\", embeddings.shape)\n",
    "\n",
    "# Aplicar t-SNE con parámetros ajustados\n",
    "tsne = TSNE(n_components=2, random_state=42, perplexity=30, n_iter=3000)\n",
    "embeddings_2d = tsne.fit_transform(embeddings)\n",
    "\n",
    "print(\"Tamaño de embeddings_2d:\", embeddings_2d.shape)\n",
    "print(\"Tamaño de f1_scores:\", len(f1_scores))\n",
    "\n",
    "# Generar el gráfico t-SNE con la paleta 'viridis'\n",
    "plt.figure(figsize=(12, 10))\n",
    "scatter = plt.scatter(\n",
    "    x=embeddings_2d[:, 0], \n",
    "    y=embeddings_2d[:, 1], \n",
    "    c=f1_scores, \n",
    "    cmap='viridis', \n",
    "    s=20,           \n",
    "    alpha=0.8,       \n",
    "    edgecolor='k'   \n",
    ")\n",
    "cbar = plt.colorbar(scatter, label='F1 Score', aspect=30)\n",
    "cbar.ax.tick_params(labelsize=12)\n",
    "\n",
    "# Personalización avanzada del gráfico\n",
    "plt.title('Análisis t-SNE basado en F1 Scores por imagen - ConvNeXt', fontsize=16, fontweight='bold', family='serif')\n",
    "plt.xlabel('Componente t-SNE 1', fontsize=14, family='serif')\n",
    "plt.ylabel('Componente t-SNE 2', fontsize=14, family='serif')\n",
    "plt.grid(color='gray', linestyle='--', linewidth=0.5, alpha=0.7)\n",
    "plt.xticks(fontsize=12, family='serif')\n",
    "plt.yticks(fontsize=12, family='serif')\n",
    "\n",
    "# Guardar el gráfico en formato SVG para alta calidad en presentaciones\n",
    "plt.savefig(\"/workspace/ConvNeXt/Vector_Analysis_ConvNeXt_Viridis.svg\", format='svg', dpi=300, bbox_inches='tight')\n",
    "plt.savefig(\"/workspace/ConvNeXt/Vector_Analysis_ConvNeXt_Viridis.png\", dpi=300, bbox_inches='tight')\n",
    "plt.show()\n",
    "\n",
    "# Guardar los datos procesados\n",
    "df_embeddings = pd.DataFrame(embeddings_2d, columns=['Componente_1', 'Componente_2'])\n",
    "df_embeddings['F1_Score'] = f1_scores\n",
    "df_embeddings.to_csv(\"/workspace/ConvNeXt/Embeddings_y_F1Scores_Viridis.csv\", index=False)\n",
    "\n",
    "print(\"Análisis de vectores completado. Resultados guardados en '/workspace/ConvNeXt'.\")\n"
   ]
  },
  {
   "cell_type": "markdown",
   "id": "73ed5b5e",
   "metadata": {},
   "source": [
    "12. EVALUACIÓN EN EL CONJUNTO DE PRUEBA"
   ]
  },
  {
   "cell_type": "code",
   "execution_count": null,
   "id": "b3cf1635",
   "metadata": {},
   "outputs": [],
   "source": [
    "print(\"Generando predicciones y calculando scores...\")\n",
    "convnext.eval()\n",
    "y_true, y_pred, y_scores = [], [], []\n",
    "\n",
    "with torch.no_grad():\n",
    "    for images, labels in test_loader:\n",
    "        images, labels = images.to(device), labels.to(device)\n",
    "        outputs = convnext(images)\n",
    "        y_scores.extend(outputs.cpu().numpy())\n",
    "        _, preds = torch.max(outputs, 1)\n",
    "        y_true.extend(labels.cpu().numpy())\n",
    "        y_pred.extend(preds.cpu().numpy())\n",
    "\n",
    "# Preparación de Datos para la Curva ROC\n",
    "y_scores = np.array(y_scores)\n",
    "y_true_bin = label_binarize(y_true, classes=list(range(len(class_names))))\n",
    "\n",
    "fpr, tpr, roc_auc = {}, {}, {}\n",
    "for i in range(len(class_names)):\n",
    "    fpr[i], tpr[i], _ = roc_curve(y_true_bin[:, i], y_scores[:, i])\n",
    "    roc_auc[i] = auc(fpr[i], tpr[i])\n",
    "\n",
    "# Cálculo de Promedio Macro y Micro AUC\n",
    "all_fpr = np.unique(np.concatenate([fpr[i] for i in range(len(class_names))]))\n",
    "mean_tpr = np.zeros_like(all_fpr)\n",
    "for i in range(len(class_names)):\n",
    "    mean_tpr += np.interp(all_fpr, fpr[i], tpr[i])\n",
    "mean_tpr /= len(class_names)\n",
    "macro_auc = auc(all_fpr, mean_tpr)\n",
    "\n",
    "fpr_micro, tpr_micro, _ = roc_curve(y_true_bin.ravel(), y_scores.ravel())\n",
    "micro_auc = auc(fpr_micro, tpr_micro)\n",
    "\n",
    "# Generación del Gráfico de Curvas ROC\n",
    "plt.figure(figsize=(12, 10))\n",
    "colors = plt.cm.tab10(np.linspace(0, 1, len(class_names)))\n",
    "\n",
    "for i, color in zip(range(len(class_names)), colors):\n",
    "    plt.plot(fpr[i], tpr[i], color=color, linewidth=2,\n",
    "             label=f'Clase {class_names[i]} (AUC = {roc_auc[i]:.2f})')\n",
    "\n",
    "# Agregar curvas promedio Macro y Micro\n",
    "plt.plot(all_fpr, mean_tpr, linestyle='--', color='black', linewidth=2,\n",
    "         label=f'Promedio Macro AUC = {macro_auc:.2f}')\n",
    "plt.plot(fpr_micro, tpr_micro, linestyle=':', color='red', linewidth=2,\n",
    "         label=f'Promedio Micro AUC = {micro_auc:.2f}')\n",
    "\n",
    "# Configuración Avanzada del Gráfico\n",
    "plt.plot([0, 1], [0, 1], 'k--', linewidth=1.5)\n",
    "plt.xlim([0.0, 1.0])\n",
    "plt.ylim([0.0, 1.05])\n",
    "plt.xlabel('Tasa de falsos positivos', fontsize=12)\n",
    "plt.ylabel('Tasa de verdaderos positivos', fontsize=12)\n",
    "plt.title('Curvas ROC para cada clase con promedio Macro y Micro - ConvNeXt', fontsize=14, fontweight='bold')\n",
    "plt.legend(loc='lower right', fontsize=10)\n",
    "plt.grid(color='gray', linestyle='--', linewidth=0.5, alpha=0.7)\n",
    "\n",
    "# Guardar el gráfico con alta resolución\n",
    "plt.tight_layout()\n",
    "plt.savefig(\"/workspace/ConvNeXt/Curva_ROC_AUC_ConvNeXt.png\", dpi=300, bbox_inches='tight')\n",
    "plt.show()\n",
    "\n",
    "# Crear listas separadas para clases, AUC y tipo\n",
    "clases = class_names + ['Promedio Macro', 'Promedio Micro']\n",
    "auc_scores = [roc_auc[i] for i in range(len(class_names))] + [macro_auc, micro_auc]\n",
    "tipo = ['Individual'] * len(class_names) + ['Promedio Macro', 'Promedio Micro']\n",
    "\n",
    "# Asegurar que todas las listas tengan la misma longitud\n",
    "assert len(clases) == len(auc_scores) == len(tipo), \"Las listas no tienen la misma longitud\"\n",
    "\n",
    "# Crear el DataFrame corregido\n",
    "roc_data = {\n",
    "    'Clase': clases,\n",
    "    'AUC': auc_scores,\n",
    "    'Tipo': tipo\n",
    "}\n",
    "df_roc = pd.DataFrame(roc_data)\n",
    "df_roc.to_csv(\"/workspace/ConvNeXt/Curvas_ROC_AUC_Resumen_ConvNeXt.csv\", index=False)\n",
    "\n",
    "print(\"Curvas ROC generadas y guardadas en '/workspace/ConvNeXt'.\")"
   ]
  },
  {
   "cell_type": "markdown",
   "id": "5d44944b",
   "metadata": {},
   "source": [
    "13. GUARDAR INFORME"
   ]
  },
  {
   "cell_type": "code",
   "execution_count": null,
   "id": "0fc14768",
   "metadata": {},
   "outputs": [],
   "source": [
    "with open(\"/workspace/ConvNeXt/Detalles_entrenamiento_ConvNeXt.txt\", \"w\") as f:\n",
    "    f.write(f\"Tiempo total de entrenamiento: {training_time:.2f} segundos\\n\")\n",
    "    f.write(f\"Dispositivo: {device}\\n\")\n",
    "    f.write(\"Modelo: ConvNeXt\\n\")\n",
    "    f.write(\"Directorio del modelo: /workspace/Models/ConvNeXt_model.pth\\n\")\n",
    "    f.write(f\"Parámetros: {sum(p.numel() for p in convnext.parameters())}\\n\")\n",
    "    f.write(\"Métricas:\\n\")\n",
    "    f.write(report_df.to_string())\n",
    "    f.write(\"\\n\\nMatriz de Confusión guardada en: ConvNeXt/Matriz_confusion_ConvNeXt.png\\n\")\n",
    "    f.write(\"Análisis de Vectores guardado en: /workspace/ConvNeXt/Vector_Analysis_ConvNeXt.png\\n\")\n",
    "    f.write(\"Curvas ROC guardadas en: /workspace/ConvNeXt/Curva_ROC_AUC_ConvNeXt.png\\n\")\n",
    "    f.write(\"Resumen AUC guardado en: /workspace/ConvNeXt/Curvas_ROC_AUC_Resumen_ConvNeXt.csv\\n\")\n",
    "\n",
    "print(\"Entrenamiento y evaluación completados. Resultados guardados en 'ConvNeXt'.\")"
   ]
  }
 ],
 "metadata": {
  "kernelspec": {
   "display_name": "Python 3 (ipykernel)",
   "language": "python",
   "name": "python3"
  },
  "language_info": {
   "codemirror_mode": {
    "name": "ipython",
    "version": 3
   },
   "file_extension": ".py",
   "mimetype": "text/x-python",
   "name": "python",
   "nbconvert_exporter": "python",
   "pygments_lexer": "ipython3",
   "version": "3.10.12"
  }
 },
 "nbformat": 4,
 "nbformat_minor": 5
}
